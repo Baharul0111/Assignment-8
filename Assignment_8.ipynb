{
 "cells": [
  {
   "cell_type": "code",
   "execution_count": 46,
   "id": "e0595de0",
   "metadata": {},
   "outputs": [
    {
     "name": "stdout",
     "output_type": "stream",
     "text": [
      "Enter your password: abBAc12oa^2%%ds\n",
      "Valid Password\n"
     ]
    }
   ],
   "source": [
    "#question 1\n",
    "password=input(\"Enter your password: \")\n",
    "upper_case=0\n",
    "lower_case=0\n",
    "numbers=0\n",
    "special=0\n",
    "for i in password:\n",
    "    if ord(i)>=65 and ord(i)<=90:\n",
    "        upper_case+=1\n",
    "    elif ord(i)>=97 and ord(i)<=122:\n",
    "        lower_case+=1\n",
    "    elif ord(i)>=48 and ord(i)<=57:\n",
    "        numbers+=1\n",
    "    else:\n",
    "        special+=1\n",
    "\n",
    "if len(password)<10:\n",
    "    print(\"Invalid Password\")\n",
    "elif upper_case<2 or lower_case<2 :\n",
    "    print(\"Invalid Password\")\n",
    "elif numbers<1 or special!=3:\n",
    "    print(\"Invalid Password\")\n",
    "else:\n",
    "    print(\"Valid Password\")"
   ]
  },
  {
   "cell_type": "code",
   "execution_count": 47,
   "id": "6a4aa66f",
   "metadata": {},
   "outputs": [
    {
     "data": {
      "text/plain": [
       "True"
      ]
     },
     "execution_count": 47,
     "metadata": {},
     "output_type": "execute_result"
    }
   ],
   "source": [
    "#question 2_a\n",
    "check_character=lambda s: True if s[0]=='B' else False\n",
    "check_character(\"Baharul\")"
   ]
  },
  {
   "cell_type": "code",
   "execution_count": 48,
   "id": "10225bf3",
   "metadata": {},
   "outputs": [
    {
     "data": {
      "text/plain": [
       "False"
      ]
     },
     "execution_count": 48,
     "metadata": {},
     "output_type": "execute_result"
    }
   ],
   "source": [
    "#question 2_b\n",
    "check_numeric=lambda s: True if s.isnumeric() else False\n",
    "check_numeric(\"12345abc\")"
   ]
  },
  {
   "cell_type": "code",
   "execution_count": 49,
   "id": "018a6bf2",
   "metadata": {},
   "outputs": [
    {
     "name": "stdout",
     "output_type": "stream",
     "text": [
      "[('orange', 80), ('mango', 99), ('grapes', 1000)]\n"
     ]
    }
   ],
   "source": [
    "#question 2_c\n",
    "l=[(\"mango\",99),(\"orange\",80),(\"grapes\",1000)]\n",
    "sorted_list = sorted(l, key=lambda x: x[1])\n",
    "print(sorted_list)"
   ]
  },
  {
   "cell_type": "code",
   "execution_count": 50,
   "id": "a71ddf6a",
   "metadata": {},
   "outputs": [
    {
     "data": {
      "text/plain": [
       "[1, 4, 9, 16, 25, 36, 49, 64, 81, 100]"
      ]
     },
     "execution_count": 50,
     "metadata": {},
     "output_type": "execute_result"
    }
   ],
   "source": [
    "#question 2_d\n",
    "l1=[i**2 for i in range(1, 11)]\n",
    "l1"
   ]
  },
  {
   "cell_type": "code",
   "execution_count": 51,
   "id": "6cd0f9a6",
   "metadata": {},
   "outputs": [
    {
     "data": {
      "text/plain": [
       "[1.0,\n",
       " 1.2570133745218284,\n",
       " 1.4369776521848516,\n",
       " 1.5800826237267545,\n",
       " 1.7008268430839244,\n",
       " 1.8063001276853345,\n",
       " 1.900563363234187,\n",
       " 1.9861849908740719,\n",
       " 2.0649047728786885,\n",
       " 2.137962089502232]"
      ]
     },
     "execution_count": 51,
     "metadata": {},
     "output_type": "execute_result"
    }
   ],
   "source": [
    "#question 2_e\n",
    "l2=[i**0.33 for i in range(1, 11)]\n",
    "l2"
   ]
  },
  {
   "cell_type": "code",
   "execution_count": 52,
   "id": "aa17298a",
   "metadata": {},
   "outputs": [
    {
     "data": {
      "text/plain": [
       "True"
      ]
     },
     "execution_count": 52,
     "metadata": {},
     "output_type": "execute_result"
    }
   ],
   "source": [
    "#question 2_f\n",
    "check_even=lambda x: True if x%2==0 else False\n",
    "check_even(34)"
   ]
  },
  {
   "cell_type": "code",
   "execution_count": 53,
   "id": "7f09e277",
   "metadata": {},
   "outputs": [
    {
     "data": {
      "text/plain": [
       "[1, 3, 5, 7, 9]"
      ]
     },
     "execution_count": 53,
     "metadata": {},
     "output_type": "execute_result"
    }
   ],
   "source": [
    "#question 2_g\n",
    "l3=[1,2,3,4,5,6,7,8,9,10]\n",
    "list(filter(lambda x:  x%2!=0 , l3))"
   ]
  },
  {
   "cell_type": "code",
   "execution_count": 54,
   "id": "af6fc44b",
   "metadata": {},
   "outputs": [
    {
     "name": "stdout",
     "output_type": "stream",
     "text": [
      "[1, 2, 3, 4, 5, 6]\n",
      "[-5, -4, -3, -2, -1]\n"
     ]
    }
   ],
   "source": [
    "#question 2_h\n",
    "l4=[1,2,3,4,5,6,-1,-2,-3,-4,-5,0]\n",
    "l4.sort()\n",
    "positive_list=[x for x in l4 if x>0]\n",
    "negative_list=[x for x in l4 if x<0]\n",
    "print(positive_list)\n",
    "print(negative_list)"
   ]
  }
 ],
 "metadata": {
  "kernelspec": {
   "display_name": "Python 3 (ipykernel)",
   "language": "python",
   "name": "python3"
  },
  "language_info": {
   "codemirror_mode": {
    "name": "ipython",
    "version": 3
   },
   "file_extension": ".py",
   "mimetype": "text/x-python",
   "name": "python",
   "nbconvert_exporter": "python",
   "pygments_lexer": "ipython3",
   "version": "3.11.5"
  }
 },
 "nbformat": 4,
 "nbformat_minor": 5
}
